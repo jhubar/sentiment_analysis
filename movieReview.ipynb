{
  "nbformat": 4,
  "nbformat_minor": 0,
  "metadata": {
    "colab": {
      "name": "movieReview.ipynb",
      "provenance": [],
      "collapsed_sections": [],
      "authorship_tag": "ABX9TyNAhy+UrrC2LPdPyPGN3oAE",
      "include_colab_link": true
    },
    "kernelspec": {
      "name": "python3",
      "display_name": "Python 3"
    },
    "language_info": {
      "name": "python"
    },
    "accelerator": "GPU",
    "gpuClass": "standard"
  },
  "cells": [
    {
      "cell_type": "markdown",
      "metadata": {
        "id": "view-in-github",
        "colab_type": "text"
      },
      "source": [
        "<a href=\"https://colab.research.google.com/github/jhubar/sentiment_analysis/blob/main/movieReview.ipynb\" target=\"_parent\"><img src=\"https://colab.research.google.com/assets/colab-badge.svg\" alt=\"Open In Colab\"/></a>"
      ]
    },
    {
      "cell_type": "code",
      "execution_count": 1,
      "metadata": {
        "colab": {
          "base_uri": "https://localhost:8080/"
        },
        "id": "nqks7tIOKgxh",
        "outputId": "78642233-7191-47d2-9a4c-7c1c514473ba"
      },
      "outputs": [
        {
          "output_type": "stream",
          "name": "stdout",
          "text": [
            "Cloning into 'transformers'...\n",
            "remote: Enumerating objects: 100468, done.\u001b[K\n",
            "remote: Counting objects: 100% (344/344), done.\u001b[K\n",
            "remote: Compressing objects: 100% (224/224), done.\u001b[K\n",
            "remote: Total 100468 (delta 155), reused 228 (delta 97), pack-reused 100124\u001b[K\n",
            "Receiving objects: 100% (100468/100468), 94.02 MiB | 17.90 MiB/s, done.\n",
            "Resolving deltas: 100% (74017/74017), done.\n",
            "/bin/bash: line 0: cd: tranformers: No such file or directory\n",
            "\u001b[33m  DEPRECATION: A future pip version will change local packages to be built in-place without first copying to a temporary directory. We recommend you use --use-feature=in-tree-build to test your packages with this new behavior before it becomes the default.\n",
            "   pip 21.3 will remove support for this functionality. You can find discussion regarding this at https://github.com/pypa/pip/issues/7555.\u001b[0m\n",
            "  Installing build dependencies ... \u001b[?25l\u001b[?25hdone\n",
            "  Getting requirements to build wheel ... \u001b[?25l\u001b[?25hdone\n",
            "    Preparing wheel metadata ... \u001b[?25l\u001b[?25hdone\n",
            "  Building wheel for transformers (PEP 517) ... \u001b[?25l\u001b[?25hdone\n"
          ]
        }
      ],
      "source": [
        "!rm -r transformers\n",
        "!git clone https://github.com/huggingface/transformers.git\n",
        "!cd tranformers\n",
        "!pip install -q ./transformers\n"
      ]
    },
    {
      "cell_type": "code",
      "source": [
        "import shutil\n",
        "import time \n",
        "import pandas as pd \n",
        "import requests \n",
        "import torch \n",
        "import torch.nn.functional as F\n",
        "import transformers \n",
        "from transformers import DistilBertTokenizerFast\n",
        "from transformers import DistilBertForSequenceClassification"
      ],
      "metadata": {
        "id": "pbmlIg5-LmwX"
      },
      "execution_count": 2,
      "outputs": []
    },
    {
      "cell_type": "code",
      "source": [
        "from google.colab import drive\n",
        "drive.mount('/content/drive')"
      ],
      "metadata": {
        "colab": {
          "base_uri": "https://localhost:8080/"
        },
        "id": "lTaul-VJLB64",
        "outputId": "5ec90e76-a450-43ef-8cba-546324e14dac"
      },
      "execution_count": 3,
      "outputs": [
        {
          "output_type": "stream",
          "name": "stdout",
          "text": [
            "Drive already mounted at /content/drive; to attempt to forcibly remount, call drive.mount(\"/content/drive\", force_remount=True).\n"
          ]
        }
      ]
    },
    {
      "cell_type": "code",
      "source": [
        "df = pd.read_csv(\"/content/drive/MyDrive/movie_review_train.tsv\", sep='\\t')\n",
        "df.head()"
      ],
      "metadata": {
        "colab": {
          "base_uri": "https://localhost:8080/",
          "height": 221
        },
        "id": "tFGFEzYHMEm6",
        "outputId": "87dd11b9-8968-425d-d6da-8d64831dcc2f"
      },
      "execution_count": 4,
      "outputs": [
        {
          "output_type": "execute_result",
          "data": {
            "text/plain": [
              "       id  sentiment                                             review\n",
              "0  5814_8          1  With all this stuff going down at the moment w...\n",
              "1  2381_9          1  \\The Classic War of the Worlds\\\" by Timothy Hi...\n",
              "2  7759_3          0  The film starts with a manager (Nicholas Bell)...\n",
              "3  3630_4          0  It must be assumed that those who praised this...\n",
              "4  9495_8          1  Superbly trashy and wondrously unpretentious 8..."
            ],
            "text/html": [
              "\n",
              "  <div id=\"df-444dcc98-41ef-4414-94bc-b0982568d284\">\n",
              "    <div class=\"colab-df-container\">\n",
              "      <div>\n",
              "<style scoped>\n",
              "    .dataframe tbody tr th:only-of-type {\n",
              "        vertical-align: middle;\n",
              "    }\n",
              "\n",
              "    .dataframe tbody tr th {\n",
              "        vertical-align: top;\n",
              "    }\n",
              "\n",
              "    .dataframe thead th {\n",
              "        text-align: right;\n",
              "    }\n",
              "</style>\n",
              "<table border=\"1\" class=\"dataframe\">\n",
              "  <thead>\n",
              "    <tr style=\"text-align: right;\">\n",
              "      <th></th>\n",
              "      <th>id</th>\n",
              "      <th>sentiment</th>\n",
              "      <th>review</th>\n",
              "    </tr>\n",
              "  </thead>\n",
              "  <tbody>\n",
              "    <tr>\n",
              "      <th>0</th>\n",
              "      <td>5814_8</td>\n",
              "      <td>1</td>\n",
              "      <td>With all this stuff going down at the moment w...</td>\n",
              "    </tr>\n",
              "    <tr>\n",
              "      <th>1</th>\n",
              "      <td>2381_9</td>\n",
              "      <td>1</td>\n",
              "      <td>\\The Classic War of the Worlds\\\" by Timothy Hi...</td>\n",
              "    </tr>\n",
              "    <tr>\n",
              "      <th>2</th>\n",
              "      <td>7759_3</td>\n",
              "      <td>0</td>\n",
              "      <td>The film starts with a manager (Nicholas Bell)...</td>\n",
              "    </tr>\n",
              "    <tr>\n",
              "      <th>3</th>\n",
              "      <td>3630_4</td>\n",
              "      <td>0</td>\n",
              "      <td>It must be assumed that those who praised this...</td>\n",
              "    </tr>\n",
              "    <tr>\n",
              "      <th>4</th>\n",
              "      <td>9495_8</td>\n",
              "      <td>1</td>\n",
              "      <td>Superbly trashy and wondrously unpretentious 8...</td>\n",
              "    </tr>\n",
              "  </tbody>\n",
              "</table>\n",
              "</div>\n",
              "      <button class=\"colab-df-convert\" onclick=\"convertToInteractive('df-444dcc98-41ef-4414-94bc-b0982568d284')\"\n",
              "              title=\"Convert this dataframe to an interactive table.\"\n",
              "              style=\"display:none;\">\n",
              "        \n",
              "  <svg xmlns=\"http://www.w3.org/2000/svg\" height=\"24px\"viewBox=\"0 0 24 24\"\n",
              "       width=\"24px\">\n",
              "    <path d=\"M0 0h24v24H0V0z\" fill=\"none\"/>\n",
              "    <path d=\"M18.56 5.44l.94 2.06.94-2.06 2.06-.94-2.06-.94-.94-2.06-.94 2.06-2.06.94zm-11 1L8.5 8.5l.94-2.06 2.06-.94-2.06-.94L8.5 2.5l-.94 2.06-2.06.94zm10 10l.94 2.06.94-2.06 2.06-.94-2.06-.94-.94-2.06-.94 2.06-2.06.94z\"/><path d=\"M17.41 7.96l-1.37-1.37c-.4-.4-.92-.59-1.43-.59-.52 0-1.04.2-1.43.59L10.3 9.45l-7.72 7.72c-.78.78-.78 2.05 0 2.83L4 21.41c.39.39.9.59 1.41.59.51 0 1.02-.2 1.41-.59l7.78-7.78 2.81-2.81c.8-.78.8-2.07 0-2.86zM5.41 20L4 18.59l7.72-7.72 1.47 1.35L5.41 20z\"/>\n",
              "  </svg>\n",
              "      </button>\n",
              "      \n",
              "  <style>\n",
              "    .colab-df-container {\n",
              "      display:flex;\n",
              "      flex-wrap:wrap;\n",
              "      gap: 12px;\n",
              "    }\n",
              "\n",
              "    .colab-df-convert {\n",
              "      background-color: #E8F0FE;\n",
              "      border: none;\n",
              "      border-radius: 50%;\n",
              "      cursor: pointer;\n",
              "      display: none;\n",
              "      fill: #1967D2;\n",
              "      height: 32px;\n",
              "      padding: 0 0 0 0;\n",
              "      width: 32px;\n",
              "    }\n",
              "\n",
              "    .colab-df-convert:hover {\n",
              "      background-color: #E2EBFA;\n",
              "      box-shadow: 0px 1px 2px rgba(60, 64, 67, 0.3), 0px 1px 3px 1px rgba(60, 64, 67, 0.15);\n",
              "      fill: #174EA6;\n",
              "    }\n",
              "\n",
              "    [theme=dark] .colab-df-convert {\n",
              "      background-color: #3B4455;\n",
              "      fill: #D2E3FC;\n",
              "    }\n",
              "\n",
              "    [theme=dark] .colab-df-convert:hover {\n",
              "      background-color: #434B5C;\n",
              "      box-shadow: 0px 1px 3px 1px rgba(0, 0, 0, 0.15);\n",
              "      filter: drop-shadow(0px 1px 2px rgba(0, 0, 0, 0.3));\n",
              "      fill: #FFFFFF;\n",
              "    }\n",
              "  </style>\n",
              "\n",
              "      <script>\n",
              "        const buttonEl =\n",
              "          document.querySelector('#df-444dcc98-41ef-4414-94bc-b0982568d284 button.colab-df-convert');\n",
              "        buttonEl.style.display =\n",
              "          google.colab.kernel.accessAllowed ? 'block' : 'none';\n",
              "\n",
              "        async function convertToInteractive(key) {\n",
              "          const element = document.querySelector('#df-444dcc98-41ef-4414-94bc-b0982568d284');\n",
              "          const dataTable =\n",
              "            await google.colab.kernel.invokeFunction('convertToInteractive',\n",
              "                                                     [key], {});\n",
              "          if (!dataTable) return;\n",
              "\n",
              "          const docLinkHtml = 'Like what you see? Visit the ' +\n",
              "            '<a target=\"_blank\" href=https://colab.research.google.com/notebooks/data_table.ipynb>data table notebook</a>'\n",
              "            + ' to learn more about interactive tables.';\n",
              "          element.innerHTML = '';\n",
              "          dataTable['output_type'] = 'display_data';\n",
              "          await google.colab.output.renderOutput(dataTable, element);\n",
              "          const docLink = document.createElement('div');\n",
              "          docLink.innerHTML = docLinkHtml;\n",
              "          element.appendChild(docLink);\n",
              "        }\n",
              "      </script>\n",
              "    </div>\n",
              "  </div>\n",
              "  "
            ]
          },
          "metadata": {},
          "execution_count": 4
        }
      ]
    },
    {
      "cell_type": "code",
      "source": [
        "size_of_dataset = len(df)\n",
        "len_train = int(0.7 * size_of_dataset)\n",
        "\n",
        "len_val = len_train+int(0.2 * size_of_dataset)\n",
        "len_val\n"
      ],
      "metadata": {
        "colab": {
          "base_uri": "https://localhost:8080/"
        },
        "id": "3g2KsWp-MGyR",
        "outputId": "6b3129cb-4a20-4139-8a8f-19c37e842c72"
      },
      "execution_count": 5,
      "outputs": [
        {
          "output_type": "execute_result",
          "data": {
            "text/plain": [
              "22500"
            ]
          },
          "metadata": {},
          "execution_count": 5
        }
      ]
    },
    {
      "cell_type": "code",
      "source": [
        "train_texts = df.iloc[:len_train]['review'].values\n",
        "train_labels = df.iloc[:len_train]['sentiment'].values\n",
        "\n",
        "valid_texts = df.iloc[len_train:len_val]['review'].values\n",
        "valid_labels = df.iloc[len_train:len_val]['sentiment'].values\n",
        "\n",
        "test_texts = df.iloc[len_val:]['review'].values\n",
        "test_labels = df.iloc[len_val:]['sentiment'].values"
      ],
      "metadata": {
        "id": "PcATLg49OgWY"
      },
      "execution_count": 77,
      "outputs": []
    },
    {
      "cell_type": "code",
      "source": [
        "tokenizer = DistilBertTokenizerFast.from_pretrained(\"distilbert-base-uncased\")\n",
        "\n",
        "train_encodings = tokenizer(list(train_texts),truncation = True, padding = True)\n",
        "valid_encodings = tokenizer(list(valid_texts),truncation = True, padding = True)\n",
        "test_encodings = tokenizer(list(test_texts),truncation = True, padding = True)"
      ],
      "metadata": {
        "id": "wyTPs6zxRMBz"
      },
      "execution_count": 78,
      "outputs": []
    },
    {
      "cell_type": "code",
      "source": [
        "class IMDbDataset(torch.utils.data.Dataset):\n",
        "  def __init__(self,encodings, labels):\n",
        "    self.encodings = encodings\n",
        "    self.labels = labels\n",
        "\n",
        "  def __getitem__(self,idx):\n",
        "    item = {key:torch.tensor(val[idx]) for key ,val in self.encodings.items()}\n",
        "    item['labels']= torch.tensor(self.labels[idx])\n",
        "    return item\n",
        "\n",
        "  def __len__(self):\n",
        "    return len(self.labels)\n",
        "  \n",
        "train_dataset = IMDbDataset(train_encodings,train_labels)\n",
        "valid_dataset = IMDbDataset(valid_encodings,valid_labels)\n",
        "test_dataset = IMDbDataset(test_encodings,test_labels)\n",
        "\n",
        "train_loader = torch.utils.data.DataLoader(train_dataset,batch_size=16, shuffle=True)\n",
        "valide_loader = torch.utils.data.DataLoader(valid_dataset,batch_size=16, shuffle=True)\n",
        "test_loader = torch.utils.data.DataLoader(test_dataset,batch_size=16, shuffle=True)\n"
      ],
      "metadata": {
        "id": "jxHz-mIcSJFa"
      },
      "execution_count": 79,
      "outputs": []
    },
    {
      "cell_type": "code",
      "source": [
        "device = torch.device('cuda:0' if torch.cuda.is_available() else 'cpu')\n",
        "\n",
        "model = DistilBertForSequenceClassification.from_pretrained(\"distilbert-base-uncased\")\n",
        "model.to(device)\n",
        "model.train()\n",
        "optim = torch.optim.Adam(model.parameters(),lr=5e-5)\n",
        "\n"
      ],
      "metadata": {
        "colab": {
          "base_uri": "https://localhost:8080/"
        },
        "id": "TIf0TLtYT9sK",
        "outputId": "527b16c8-347e-44f1-9d54-ca1a8d3e0688"
      },
      "execution_count": 80,
      "outputs": [
        {
          "output_type": "stream",
          "name": "stderr",
          "text": [
            "Some weights of the model checkpoint at distilbert-base-uncased were not used when initializing DistilBertForSequenceClassification: ['vocab_layer_norm.bias', 'vocab_projector.bias', 'vocab_transform.bias', 'vocab_transform.weight', 'vocab_layer_norm.weight', 'vocab_projector.weight']\n",
            "- This IS expected if you are initializing DistilBertForSequenceClassification from the checkpoint of a model trained on another task or with another architecture (e.g. initializing a BertForSequenceClassification model from a BertForPreTraining model).\n",
            "- This IS NOT expected if you are initializing DistilBertForSequenceClassification from the checkpoint of a model that you expect to be exactly identical (initializing a BertForSequenceClassification model from a BertForSequenceClassification model).\n",
            "Some weights of DistilBertForSequenceClassification were not initialized from the model checkpoint at distilbert-base-uncased and are newly initialized: ['classifier.bias', 'pre_classifier.weight', 'classifier.weight', 'pre_classifier.bias']\n",
            "You should probably TRAIN this model on a down-stream task to be able to use it for predictions and inference.\n"
          ]
        }
      ]
    },
    {
      "cell_type": "code",
      "source": [
        "def compute_accuracy(model,data_loder,device):\n",
        "  with torch.no_grad():\n",
        "    correct_pred, num_examples = 0, 0\n",
        "    for batch_idx, batch in enumerate(data_loder):\n",
        "      input_ids = batch['input_ids'].to(device)\n",
        "      attention_mask = batch['attention_mask'].to(device)\n",
        "      labels = batch['labels'].to(device)\n",
        "\n",
        "      outputs = model(input_ids,attention_mask =attention_mask)\n",
        "      logits = outputs['logits']\n",
        "      predicted_labels = torch.argmax(logits,1)\n",
        "      num_examples += labels.size(0)\n",
        "      correct_pred += (predicted_labels == labels).sum()\n",
        "      return correct_pred.float()/num_examples * 100\n",
        "\n"
      ],
      "metadata": {
        "id": "JZPy1RpMUmy5"
      },
      "execution_count": 81,
      "outputs": []
    },
    {
      "cell_type": "code",
      "source": [
        "start_time = time.time()\n",
        "train_accs = []\n",
        "val_accs = []\n",
        "train_loss = []\n",
        "val_loss = []\n",
        "val_iterator = iter(valide_loader)\n",
        "val_batch_idx = 0\n",
        "num_epochs = 4\n",
        "for epoch in range(num_epochs):\n",
        "  \n",
        "  for batch_idx, batch in enumerate(train_loader):\n",
        "    model.train()\n",
        "    input_ids = batch['input_ids'].to(device)\n",
        "    attention_mask = batch['attention_mask'].to(device)\n",
        "    labels = batch['labels'].to(device)\n",
        "\n",
        "    outputs = model(input_ids,attention_mask=attention_mask,labels=labels)\n",
        "\n",
        "    loss,logits = outputs['loss'], outputs['logits']\n",
        "\n",
        "    optim.zero_grad()\n",
        "    loss.backward()\n",
        "    torch.nn.utils.clip_grad_value_(model.parameters(), clip_value=1.0)\n",
        "    optim.step()\n",
        "    train_loss.append(loss)\n",
        "\n",
        "\n",
        "    if not batch_idx % 250:\n",
        "      print(f'Epoch:{epoch+1/num_epochs}'f' | Batch'f'{batch_idx}/'f'{len(train_loader)} |'f'Loss:{loss}')\n",
        "      train_acc = compute_accuracy(model,train_loader,device)\n",
        "      train_accs.append(train_acc)\n",
        "    \n",
        "    if val_batch_idx >= len(val_iterator):\n",
        "        val_iterator = iter(valide_loader)\n",
        "        val_batch_idx = 0\n",
        "    val_batch_idx += 1\n",
        "    model.eval()\n",
        "\n",
        "    with torch.no_grad():\n",
        "      batch = next(val_iterator)\n",
        "      input_ids = batch['input_ids'].to(device)\n",
        "      attention_mask = batch['attention_mask'].to(device)\n",
        "      labels = batch['labels'].to(device)\n",
        "      outputs = model(input_ids,attention_mask=attention_mask,labels=labels)\n",
        "      val_acc = compute_accuracy(model,valide_loader,device)\n",
        "      val_accs.append(val_acc)\n",
        "      val_loss.append(outputs['loss'].item())\n",
        "    if not batch_idx % 250:\n",
        "      print(f'Trainning accuracy:' f'{train_acc}%' f'\\n Valid accuracy:'f'{val_acc}%')\n",
        "\n",
        "      print(f'Time elapsed: {(time.time() - start_time)/60} min')\n",
        "\n",
        "print(f'Total Training time: {(time.time() - start_time)/60} min')\n",
        "print(f'Test Accurcay: {compute_accuracy(model,test_loader,device)}%')\n",
        "\n",
        "\n",
        "\n"
      ],
      "metadata": {
        "colab": {
          "base_uri": "https://localhost:8080/"
        },
        "id": "8XcjeU2sZ9ca",
        "outputId": "4a421956-ee6c-4b0e-8530-fecafdc35eba"
      },
      "execution_count": 82,
      "outputs": [
        {
          "output_type": "stream",
          "name": "stdout",
          "text": [
            "Epoch:0.25 | Batch0/1094 |Loss:0.7027884125709534\n",
            "Trainning accuracy:43.75%\n",
            " Valid accuracy:56.25%\n",
            "Time elapsed: 0.03145126501719157 min\n",
            "Epoch:0.25 | Batch250/1094 |Loss:0.06761240214109421\n",
            "Trainning accuracy:87.5%\n",
            " Valid accuracy:93.75%\n",
            "Time elapsed: 2.897786486148834 min\n",
            "Epoch:0.25 | Batch500/1094 |Loss:0.3745127320289612\n",
            "Trainning accuracy:100.0%\n",
            " Valid accuracy:100.0%\n",
            "Time elapsed: 5.762811271349589 min\n",
            "Epoch:0.25 | Batch750/1094 |Loss:0.4044204354286194\n",
            "Trainning accuracy:87.5%\n",
            " Valid accuracy:75.0%\n",
            "Time elapsed: 8.628315011660257 min\n",
            "Epoch:0.25 | Batch1000/1094 |Loss:0.3062245547771454\n",
            "Trainning accuracy:93.75%\n",
            " Valid accuracy:87.5%\n",
            "Time elapsed: 11.494827103614806 min\n",
            "Epoch:1.25 | Batch0/1094 |Loss:0.08395697921514511\n",
            "Trainning accuracy:93.75%\n",
            " Valid accuracy:87.5%\n",
            "Time elapsed: 12.572999389966329 min\n",
            "Epoch:1.25 | Batch250/1094 |Loss:0.06503621488809586\n",
            "Trainning accuracy:87.5%\n",
            " Valid accuracy:93.75%\n",
            "Time elapsed: 15.43905637661616 min\n",
            "Epoch:1.25 | Batch500/1094 |Loss:0.047426242381334305\n",
            "Trainning accuracy:100.0%\n",
            " Valid accuracy:93.75%\n",
            "Time elapsed: 18.30457147757212 min\n",
            "Epoch:1.25 | Batch750/1094 |Loss:0.1520908772945404\n",
            "Trainning accuracy:100.0%\n",
            " Valid accuracy:93.75%\n",
            "Time elapsed: 21.172153568267824 min\n",
            "Epoch:1.25 | Batch1000/1094 |Loss:0.13064734637737274\n",
            "Trainning accuracy:93.75%\n",
            " Valid accuracy:87.5%\n",
            "Time elapsed: 24.037858041127524 min\n",
            "Epoch:2.25 | Batch0/1094 |Loss:0.07218936085700989\n",
            "Trainning accuracy:100.0%\n",
            " Valid accuracy:93.75%\n",
            "Time elapsed: 25.11570851802826 min\n",
            "Epoch:2.25 | Batch250/1094 |Loss:0.006243077572435141\n",
            "Trainning accuracy:100.0%\n",
            " Valid accuracy:87.5%\n",
            "Time elapsed: 27.982593985398612 min\n",
            "Epoch:2.25 | Batch500/1094 |Loss:0.052206095308065414\n",
            "Trainning accuracy:100.0%\n",
            " Valid accuracy:87.5%\n",
            "Time elapsed: 30.850074009100595 min\n",
            "Epoch:2.25 | Batch750/1094 |Loss:0.016386108472943306\n",
            "Trainning accuracy:93.75%\n",
            " Valid accuracy:93.75%\n",
            "Time elapsed: 33.7150793949763 min\n",
            "Epoch:2.25 | Batch1000/1094 |Loss:0.0414230115711689\n",
            "Trainning accuracy:100.0%\n",
            " Valid accuracy:100.0%\n",
            "Time elapsed: 36.58046833674113 min\n",
            "Epoch:3.25 | Batch0/1094 |Loss:0.024857133626937866\n",
            "Trainning accuracy:100.0%\n",
            " Valid accuracy:100.0%\n",
            "Time elapsed: 37.66009709437688 min\n",
            "Epoch:3.25 | Batch250/1094 |Loss:0.0021645603701472282\n",
            "Trainning accuracy:100.0%\n",
            " Valid accuracy:87.5%\n",
            "Time elapsed: 40.52535645564397 min\n",
            "Epoch:3.25 | Batch500/1094 |Loss:0.017147080972790718\n",
            "Trainning accuracy:93.75%\n",
            " Valid accuracy:81.25%\n",
            "Time elapsed: 43.39052905639013 min\n",
            "Epoch:3.25 | Batch750/1094 |Loss:0.10599683225154877\n",
            "Trainning accuracy:100.0%\n",
            " Valid accuracy:93.75%\n",
            "Time elapsed: 46.257976154486336 min\n",
            "Epoch:3.25 | Batch1000/1094 |Loss:0.011327117681503296\n",
            "Trainning accuracy:100.0%\n",
            " Valid accuracy:93.75%\n",
            "Time elapsed: 49.124381403128304 min\n",
            "Total Training time: 50.18907280365626 min\n",
            "Test Accurcay: 87.5%\n"
          ]
        }
      ]
    },
    {
      "cell_type": "code",
      "source": [
        "import matplotlib.pyplot as plt\n",
        "import pandas as pd \n",
        "import numpy as np \n",
        "import seaborn as sns\n",
        "\n",
        "A_train = []\n",
        "A_eval = []\n",
        "A_train_loss = []\n",
        "A_eval_loss = []\n",
        "sns.set_palette(\"Paired\")\n",
        "\n",
        "sns.set()\n",
        "# print(train_loss)\n",
        "for i in range(0,len(train_loss),100):\n",
        "  A_train_loss.append(train_loss[i].item())\n",
        "  A_eval_loss.append(val_loss[i])\n",
        "\n",
        "for i in range(len(train_accs)):\n",
        "  A_train.append(train_accs[i].item())\n",
        "  A_eval.append(val_accs[i].item())\n",
        "\n",
        "\n",
        "\n",
        "\n",
        "fig, (ax1,ax2) = plt.subplots(1, 2,figsize=(18,6))\n",
        "N=  44\n",
        "x = np.linspace(0,4400 , N, endpoint=True)\n",
        "x1 = np.linspace(0,4400 , 20, endpoint=True)\n",
        "\n",
        "ax1.plot(x1,A_train,color=\"r\",label=\"Train \")\n",
        "ax1.plot(x1,A_eval,color=\"b\",label=\"eval \")\n",
        "ax1.legend()\n",
        "ax1.set_title('Accuracy',fontsize=16)\n",
        "ax2.plot(x,A_train_loss,color=\"r\",label=\"Train \")\n",
        "ax2.plot(x,A_eval_loss,color=\"b\",label=\"eval \")\n",
        "ax2.set_yscale('log')\n",
        "ax2.set_xlabel('Steps',fontsize=16)\n",
        "ax2.set_title('Loss',fontsize=16)\n",
        "ax2.legend()\n",
        "\n",
        "plt.show()\n"
      ],
      "metadata": {
        "colab": {
          "base_uri": "https://localhost:8080/",
          "height": 435
        },
        "id": "Bv45dG9BA5Lq",
        "outputId": "4fc31728-377b-49a9-da40-98443a638e17"
      },
      "execution_count": 83,
      "outputs": [
        {
          "output_type": "display_data",
          "data": {
            "text/plain": [
              "<Figure size 1296x432 with 2 Axes>"
            ],
            "image/png": "[encoded data removed]"
          },
          "metadata": {}
        }
      ]
    }
  ]
}